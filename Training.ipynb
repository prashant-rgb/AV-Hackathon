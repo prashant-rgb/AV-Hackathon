{
 "cells": [
  {
   "cell_type": "markdown",
   "metadata": {},
   "source": [
    "# Import All the required libraries"
   ]
  },
  {
   "cell_type": "code",
   "execution_count": 77,
   "metadata": {
    "ExecuteTime": {
     "end_time": "2021-05-29T15:30:02.685925Z",
     "start_time": "2021-05-29T15:30:02.672956Z"
    }
   },
   "outputs": [],
   "source": [
    "import pandas as pd \n",
    "import numpy as np\n",
    "import sklearn\n",
    "from scipy.stats import shapiro\n",
    "import os\n",
    "import matplotlib.pyplot as plt\n",
    "import seaborn as sns\n",
    "import matplotlib.pyplot as plt\n",
    "from sklearn.preprocessing import LabelEncoder, OneHotEncoder\n",
    "import warnings\n",
    "warnings.filterwarnings(\"ignore\")\n",
    "from sklearn.model_selection import train_test_split\n",
    "from sklearn.svm import SVC\n",
    "from sklearn.metrics import confusion_matrix\n",
    "from jupyterthemes import jtplot\n",
    "jtplot.style(ticks=True, grid=False)\n",
    "from sklearn.model_selection import train_test_split\n",
    "from sklearn.model_selection import RandomizedSearchCV\n",
    "from sklearn import datasets\n",
    "from sklearn.ensemble import RandomForestClassifier\n",
    "from scipy.stats import uniform, truncnorm, randint\n",
    "from sklearn.linear_model import LogisticRegressionCV"
   ]
  },
  {
   "cell_type": "markdown",
   "metadata": {},
   "source": [
    "# Read Training data"
   ]
  },
  {
   "cell_type": "code",
   "execution_count": 2,
   "metadata": {
    "ExecuteTime": {
     "end_time": "2021-05-29T12:38:42.408849Z",
     "start_time": "2021-05-29T12:38:41.618962Z"
    }
   },
   "outputs": [],
   "source": [
    "df_train= pd.read_csv('C:/Users/ps23962/Desktop/Data Science Project/train_s3TEQDk.csv')"
   ]
  },
  {
   "cell_type": "markdown",
   "metadata": {},
   "source": [
    "# Data Analysis for training data"
   ]
  },
  {
   "cell_type": "code",
   "execution_count": 3,
   "metadata": {
    "ExecuteTime": {
     "end_time": "2021-05-29T12:38:43.997600Z",
     "start_time": "2021-05-29T12:38:43.858971Z"
    }
   },
   "outputs": [
    {
     "data": {
      "text/plain": [
       "ID                     245725\n",
       "Gender                 245725\n",
       "Age                    245725\n",
       "Region_Code            245725\n",
       "Occupation             245725\n",
       "Channel_Code           245725\n",
       "Vintage                245725\n",
       "Credit_Product         216400\n",
       "Avg_Account_Balance    245725\n",
       "Is_Active              245725\n",
       "Is_Lead                245725\n",
       "dtype: int64"
      ]
     },
     "execution_count": 3,
     "metadata": {},
     "output_type": "execute_result"
    }
   ],
   "source": [
    "df_train.count()"
   ]
  },
  {
   "cell_type": "code",
   "execution_count": 4,
   "metadata": {
    "ExecuteTime": {
     "end_time": "2021-05-29T12:38:49.815041Z",
     "start_time": "2021-05-29T12:38:49.631531Z"
    }
   },
   "outputs": [
    {
     "name": "stdout",
     "output_type": "stream",
     "text": [
      "<class 'pandas.core.frame.DataFrame'>\n",
      "RangeIndex: 245725 entries, 0 to 245724\n",
      "Data columns (total 11 columns):\n",
      " #   Column               Non-Null Count   Dtype \n",
      "---  ------               --------------   ----- \n",
      " 0   ID                   245725 non-null  object\n",
      " 1   Gender               245725 non-null  object\n",
      " 2   Age                  245725 non-null  int64 \n",
      " 3   Region_Code          245725 non-null  object\n",
      " 4   Occupation           245725 non-null  object\n",
      " 5   Channel_Code         245725 non-null  object\n",
      " 6   Vintage              245725 non-null  int64 \n",
      " 7   Credit_Product       216400 non-null  object\n",
      " 8   Avg_Account_Balance  245725 non-null  int64 \n",
      " 9   Is_Active            245725 non-null  object\n",
      " 10  Is_Lead              245725 non-null  int64 \n",
      "dtypes: int64(4), object(7)\n",
      "memory usage: 20.6+ MB\n"
     ]
    }
   ],
   "source": [
    "df_train.info()"
   ]
  },
  {
   "cell_type": "code",
   "execution_count": 5,
   "metadata": {
    "ExecuteTime": {
     "end_time": "2021-05-29T12:38:54.835022Z",
     "start_time": "2021-05-29T12:38:54.714343Z"
    }
   },
   "outputs": [
    {
     "data": {
      "text/html": [
       "<div>\n",
       "<style scoped>\n",
       "    .dataframe tbody tr th:only-of-type {\n",
       "        vertical-align: middle;\n",
       "    }\n",
       "\n",
       "    .dataframe tbody tr th {\n",
       "        vertical-align: top;\n",
       "    }\n",
       "\n",
       "    .dataframe thead th {\n",
       "        text-align: right;\n",
       "    }\n",
       "</style>\n",
       "<table border=\"1\" class=\"dataframe\">\n",
       "  <thead>\n",
       "    <tr style=\"text-align: right;\">\n",
       "      <th></th>\n",
       "      <th>Age</th>\n",
       "      <th>Vintage</th>\n",
       "      <th>Avg_Account_Balance</th>\n",
       "      <th>Is_Lead</th>\n",
       "    </tr>\n",
       "  </thead>\n",
       "  <tbody>\n",
       "    <tr>\n",
       "      <th>count</th>\n",
       "      <td>245725.000000</td>\n",
       "      <td>245725.000000</td>\n",
       "      <td>2.457250e+05</td>\n",
       "      <td>245725.000000</td>\n",
       "    </tr>\n",
       "    <tr>\n",
       "      <th>mean</th>\n",
       "      <td>43.856307</td>\n",
       "      <td>46.959141</td>\n",
       "      <td>1.128403e+06</td>\n",
       "      <td>0.237208</td>\n",
       "    </tr>\n",
       "    <tr>\n",
       "      <th>std</th>\n",
       "      <td>14.828672</td>\n",
       "      <td>32.353136</td>\n",
       "      <td>8.529364e+05</td>\n",
       "      <td>0.425372</td>\n",
       "    </tr>\n",
       "    <tr>\n",
       "      <th>min</th>\n",
       "      <td>23.000000</td>\n",
       "      <td>7.000000</td>\n",
       "      <td>2.079000e+04</td>\n",
       "      <td>0.000000</td>\n",
       "    </tr>\n",
       "    <tr>\n",
       "      <th>25%</th>\n",
       "      <td>30.000000</td>\n",
       "      <td>20.000000</td>\n",
       "      <td>6.043100e+05</td>\n",
       "      <td>0.000000</td>\n",
       "    </tr>\n",
       "    <tr>\n",
       "      <th>50%</th>\n",
       "      <td>43.000000</td>\n",
       "      <td>32.000000</td>\n",
       "      <td>8.946010e+05</td>\n",
       "      <td>0.000000</td>\n",
       "    </tr>\n",
       "    <tr>\n",
       "      <th>75%</th>\n",
       "      <td>54.000000</td>\n",
       "      <td>73.000000</td>\n",
       "      <td>1.366666e+06</td>\n",
       "      <td>0.000000</td>\n",
       "    </tr>\n",
       "    <tr>\n",
       "      <th>max</th>\n",
       "      <td>85.000000</td>\n",
       "      <td>135.000000</td>\n",
       "      <td>1.035201e+07</td>\n",
       "      <td>1.000000</td>\n",
       "    </tr>\n",
       "  </tbody>\n",
       "</table>\n",
       "</div>"
      ],
      "text/plain": [
       "                 Age        Vintage  Avg_Account_Balance        Is_Lead\n",
       "count  245725.000000  245725.000000         2.457250e+05  245725.000000\n",
       "mean       43.856307      46.959141         1.128403e+06       0.237208\n",
       "std        14.828672      32.353136         8.529364e+05       0.425372\n",
       "min        23.000000       7.000000         2.079000e+04       0.000000\n",
       "25%        30.000000      20.000000         6.043100e+05       0.000000\n",
       "50%        43.000000      32.000000         8.946010e+05       0.000000\n",
       "75%        54.000000      73.000000         1.366666e+06       0.000000\n",
       "max        85.000000     135.000000         1.035201e+07       1.000000"
      ]
     },
     "execution_count": 5,
     "metadata": {},
     "output_type": "execute_result"
    }
   ],
   "source": [
    "df_train.describe()"
   ]
  },
  {
   "cell_type": "code",
   "execution_count": 6,
   "metadata": {
    "ExecuteTime": {
     "end_time": "2021-05-28T14:33:01.249591Z",
     "start_time": "2021-05-28T14:33:01.041139Z"
    }
   },
   "outputs": [
    {
     "data": {
      "text/plain": [
       "ID                     245725\n",
       "Gender                 245725\n",
       "Age                    245725\n",
       "Region_Code            245725\n",
       "Occupation             245725\n",
       "Channel_Code           245725\n",
       "Vintage                245725\n",
       "Credit_Product         216400\n",
       "Avg_Account_Balance    245725\n",
       "Is_Active              245725\n",
       "Is_Lead                245725\n",
       "dtype: int64"
      ]
     },
     "execution_count": 6,
     "metadata": {},
     "output_type": "execute_result"
    }
   ],
   "source": [
    "#Assumption - We have data for less than 18 years of age customers\n",
    "#check if we have data for less than 18 years of age customers - which shouldn't be the case \n",
    "df_assumption1=df_train[df_train['Age']>18]\n",
    "df_assumption1.count()"
   ]
  },
  {
   "cell_type": "code",
   "execution_count": 7,
   "metadata": {
    "ExecuteTime": {
     "end_time": "2021-05-28T14:33:01.452051Z",
     "start_time": "2021-05-28T14:33:01.255571Z"
    }
   },
   "outputs": [
    {
     "data": {
      "text/html": [
       "<div>\n",
       "<style scoped>\n",
       "    .dataframe tbody tr th:only-of-type {\n",
       "        vertical-align: middle;\n",
       "    }\n",
       "\n",
       "    .dataframe tbody tr th {\n",
       "        vertical-align: top;\n",
       "    }\n",
       "\n",
       "    .dataframe thead th {\n",
       "        text-align: right;\n",
       "    }\n",
       "</style>\n",
       "<table border=\"1\" class=\"dataframe\">\n",
       "  <thead>\n",
       "    <tr style=\"text-align: right;\">\n",
       "      <th></th>\n",
       "      <th>ID</th>\n",
       "      <th>Gender</th>\n",
       "      <th>Age</th>\n",
       "      <th>Region_Code</th>\n",
       "      <th>Occupation</th>\n",
       "      <th>Channel_Code</th>\n",
       "      <th>Vintage</th>\n",
       "      <th>Credit_Product</th>\n",
       "      <th>Avg_Account_Balance</th>\n",
       "      <th>Is_Active</th>\n",
       "      <th>Is_Lead</th>\n",
       "    </tr>\n",
       "  </thead>\n",
       "  <tbody>\n",
       "    <tr>\n",
       "      <th>56</th>\n",
       "      <td>MYQVVJNR</td>\n",
       "      <td>Female</td>\n",
       "      <td>76</td>\n",
       "      <td>RG283</td>\n",
       "      <td>Other</td>\n",
       "      <td>X3</td>\n",
       "      <td>93</td>\n",
       "      <td>NaN</td>\n",
       "      <td>1061778</td>\n",
       "      <td>Yes</td>\n",
       "      <td>1</td>\n",
       "    </tr>\n",
       "    <tr>\n",
       "      <th>79</th>\n",
       "      <td>UYQ6AHQP</td>\n",
       "      <td>Female</td>\n",
       "      <td>73</td>\n",
       "      <td>RG284</td>\n",
       "      <td>Other</td>\n",
       "      <td>X3</td>\n",
       "      <td>81</td>\n",
       "      <td>NaN</td>\n",
       "      <td>740969</td>\n",
       "      <td>Yes</td>\n",
       "      <td>1</td>\n",
       "    </tr>\n",
       "    <tr>\n",
       "      <th>109</th>\n",
       "      <td>H8SSUOLH</td>\n",
       "      <td>Male</td>\n",
       "      <td>78</td>\n",
       "      <td>RG283</td>\n",
       "      <td>Other</td>\n",
       "      <td>X2</td>\n",
       "      <td>92</td>\n",
       "      <td>NaN</td>\n",
       "      <td>1808346</td>\n",
       "      <td>Yes</td>\n",
       "      <td>1</td>\n",
       "    </tr>\n",
       "    <tr>\n",
       "      <th>286</th>\n",
       "      <td>Q9GRWVER</td>\n",
       "      <td>Female</td>\n",
       "      <td>71</td>\n",
       "      <td>RG268</td>\n",
       "      <td>Other</td>\n",
       "      <td>X3</td>\n",
       "      <td>73</td>\n",
       "      <td>No</td>\n",
       "      <td>1940467</td>\n",
       "      <td>Yes</td>\n",
       "      <td>1</td>\n",
       "    </tr>\n",
       "    <tr>\n",
       "      <th>459</th>\n",
       "      <td>NGO2QWP5</td>\n",
       "      <td>Male</td>\n",
       "      <td>85</td>\n",
       "      <td>RG284</td>\n",
       "      <td>Other</td>\n",
       "      <td>X3</td>\n",
       "      <td>122</td>\n",
       "      <td>NaN</td>\n",
       "      <td>1075662</td>\n",
       "      <td>Yes</td>\n",
       "      <td>1</td>\n",
       "    </tr>\n",
       "    <tr>\n",
       "      <th>...</th>\n",
       "      <td>...</td>\n",
       "      <td>...</td>\n",
       "      <td>...</td>\n",
       "      <td>...</td>\n",
       "      <td>...</td>\n",
       "      <td>...</td>\n",
       "      <td>...</td>\n",
       "      <td>...</td>\n",
       "      <td>...</td>\n",
       "      <td>...</td>\n",
       "      <td>...</td>\n",
       "    </tr>\n",
       "    <tr>\n",
       "      <th>244129</th>\n",
       "      <td>A7F9PZF5</td>\n",
       "      <td>Male</td>\n",
       "      <td>85</td>\n",
       "      <td>RG254</td>\n",
       "      <td>Other</td>\n",
       "      <td>X3</td>\n",
       "      <td>109</td>\n",
       "      <td>Yes</td>\n",
       "      <td>3427817</td>\n",
       "      <td>Yes</td>\n",
       "      <td>1</td>\n",
       "    </tr>\n",
       "    <tr>\n",
       "      <th>244786</th>\n",
       "      <td>KPI3FKHE</td>\n",
       "      <td>Male</td>\n",
       "      <td>76</td>\n",
       "      <td>RG283</td>\n",
       "      <td>Other</td>\n",
       "      <td>X3</td>\n",
       "      <td>87</td>\n",
       "      <td>Yes</td>\n",
       "      <td>483065</td>\n",
       "      <td>Yes</td>\n",
       "      <td>1</td>\n",
       "    </tr>\n",
       "    <tr>\n",
       "      <th>244974</th>\n",
       "      <td>TGC8NRUV</td>\n",
       "      <td>Male</td>\n",
       "      <td>81</td>\n",
       "      <td>RG254</td>\n",
       "      <td>Other</td>\n",
       "      <td>X1</td>\n",
       "      <td>49</td>\n",
       "      <td>No</td>\n",
       "      <td>1384590</td>\n",
       "      <td>Yes</td>\n",
       "      <td>1</td>\n",
       "    </tr>\n",
       "    <tr>\n",
       "      <th>245419</th>\n",
       "      <td>IYMMA4YN</td>\n",
       "      <td>Female</td>\n",
       "      <td>76</td>\n",
       "      <td>RG282</td>\n",
       "      <td>Other</td>\n",
       "      <td>X3</td>\n",
       "      <td>92</td>\n",
       "      <td>NaN</td>\n",
       "      <td>1441515</td>\n",
       "      <td>Yes</td>\n",
       "      <td>1</td>\n",
       "    </tr>\n",
       "    <tr>\n",
       "      <th>245484</th>\n",
       "      <td>KJHHZXYK</td>\n",
       "      <td>Male</td>\n",
       "      <td>84</td>\n",
       "      <td>RG283</td>\n",
       "      <td>Other</td>\n",
       "      <td>X2</td>\n",
       "      <td>61</td>\n",
       "      <td>NaN</td>\n",
       "      <td>428339</td>\n",
       "      <td>Yes</td>\n",
       "      <td>1</td>\n",
       "    </tr>\n",
       "  </tbody>\n",
       "</table>\n",
       "<p>2021 rows × 11 columns</p>\n",
       "</div>"
      ],
      "text/plain": [
       "              ID  Gender  Age Region_Code Occupation Channel_Code  Vintage  \\\n",
       "56      MYQVVJNR  Female   76       RG283      Other           X3       93   \n",
       "79      UYQ6AHQP  Female   73       RG284      Other           X3       81   \n",
       "109     H8SSUOLH    Male   78       RG283      Other           X2       92   \n",
       "286     Q9GRWVER  Female   71       RG268      Other           X3       73   \n",
       "459     NGO2QWP5    Male   85       RG284      Other           X3      122   \n",
       "...          ...     ...  ...         ...        ...          ...      ...   \n",
       "244129  A7F9PZF5    Male   85       RG254      Other           X3      109   \n",
       "244786  KPI3FKHE    Male   76       RG283      Other           X3       87   \n",
       "244974  TGC8NRUV    Male   81       RG254      Other           X1       49   \n",
       "245419  IYMMA4YN  Female   76       RG282      Other           X3       92   \n",
       "245484  KJHHZXYK    Male   84       RG283      Other           X2       61   \n",
       "\n",
       "       Credit_Product  Avg_Account_Balance Is_Active  Is_Lead  \n",
       "56                NaN              1061778       Yes        1  \n",
       "79                NaN               740969       Yes        1  \n",
       "109               NaN              1808346       Yes        1  \n",
       "286                No              1940467       Yes        1  \n",
       "459               NaN              1075662       Yes        1  \n",
       "...               ...                  ...       ...      ...  \n",
       "244129            Yes              3427817       Yes        1  \n",
       "244786            Yes               483065       Yes        1  \n",
       "244974             No              1384590       Yes        1  \n",
       "245419            NaN              1441515       Yes        1  \n",
       "245484            NaN               428339       Yes        1  \n",
       "\n",
       "[2021 rows x 11 columns]"
      ]
     },
     "execution_count": 7,
     "metadata": {},
     "output_type": "execute_result"
    }
   ],
   "source": [
    "df_train.loc[(df_train['Age']>70) & (df_train['Is_Lead']==1) & (df_train['Is_Active'].str.contains('Yes'))]\n",
    "# Records for this category is pretty less and would have less impact on the prediction"
   ]
  },
  {
   "cell_type": "code",
   "execution_count": 8,
   "metadata": {
    "ExecuteTime": {
     "end_time": "2021-05-28T14:33:01.489948Z",
     "start_time": "2021-05-28T14:33:01.455043Z"
    }
   },
   "outputs": [],
   "source": [
    "raw_data = df_train.drop('Is_Lead', axis=1)"
   ]
  },
  {
   "cell_type": "code",
   "execution_count": 9,
   "metadata": {
    "ExecuteTime": {
     "end_time": "2021-05-28T14:33:02.239941Z",
     "start_time": "2021-05-28T14:33:01.491941Z"
    }
   },
   "outputs": [],
   "source": [
    "label_encoder = LabelEncoder()\n",
    "raw_data.iloc[:,0] = label_encoder.fit_transform(raw_data.iloc[:,0]).astype('float64')"
   ]
  },
  {
   "cell_type": "code",
   "execution_count": 10,
   "metadata": {
    "ExecuteTime": {
     "end_time": "2021-05-28T14:33:02.589008Z",
     "start_time": "2021-05-28T14:33:02.241935Z"
    }
   },
   "outputs": [
    {
     "data": {
      "text/plain": [
       "<matplotlib.axes._subplots.AxesSubplot at 0x1ab42503d60>"
      ]
     },
     "execution_count": 10,
     "metadata": {},
     "output_type": "execute_result"
    },
    {
     "data": {
      "image/png": "[encoded data removed]",
      "text/plain": [
       "<Figure size 460.8x403.2 with 2 Axes>"
      ]
     },
     "metadata": {},
     "output_type": "display_data"
    }
   ],
   "source": [
    "import seaborn as sns\n",
    "corr = raw_data.corr()\n",
    "sns.heatmap(corr, \n",
    "            xticklabels=corr.columns.values,\n",
    "            yticklabels=corr.columns.values)"
   ]
  },
  {
   "cell_type": "markdown",
   "metadata": {},
   "source": [
    "# Preprocessing"
   ]
  },
  {
   "cell_type": "code",
   "execution_count": 11,
   "metadata": {
    "ExecuteTime": {
     "end_time": "2021-05-28T14:33:02.804429Z",
     "start_time": "2021-05-28T14:33:02.591998Z"
    }
   },
   "outputs": [
    {
     "name": "stdout",
     "output_type": "stream",
     "text": [
      "<class 'pandas.core.frame.DataFrame'>\n",
      "Int64Index: 216400 entries, 0 to 245724\n",
      "Data columns (total 11 columns):\n",
      " #   Column               Non-Null Count   Dtype \n",
      "---  ------               --------------   ----- \n",
      " 0   ID                   216400 non-null  object\n",
      " 1   Gender               216400 non-null  object\n",
      " 2   Age                  216400 non-null  int64 \n",
      " 3   Region_Code          216400 non-null  object\n",
      " 4   Occupation           216400 non-null  object\n",
      " 5   Channel_Code         216400 non-null  object\n",
      " 6   Vintage              216400 non-null  int64 \n",
      " 7   Credit_Product       216400 non-null  object\n",
      " 8   Avg_Account_Balance  216400 non-null  int64 \n",
      " 9   Is_Active            216400 non-null  object\n",
      " 10  Is_Lead              216400 non-null  int64 \n",
      "dtypes: int64(4), object(7)\n",
      "memory usage: 19.8+ MB\n"
     ]
    }
   ],
   "source": [
    "# drop nulls\n",
    "#df_train = df_train.dropna(axis=0)\n",
    "#df_train.info()"
   ]
  },
  {
   "cell_type": "code",
   "execution_count": 6,
   "metadata": {
    "ExecuteTime": {
     "end_time": "2021-05-29T12:41:43.188151Z",
     "start_time": "2021-05-29T12:41:43.166207Z"
    }
   },
   "outputs": [],
   "source": [
    "#create category of null values in credit product a default\n",
    "df_train['Credit_Product']=df_train['Credit_Product'].replace(np.nan,'No_Info')"
   ]
  },
  {
   "cell_type": "code",
   "execution_count": 7,
   "metadata": {
    "ExecuteTime": {
     "end_time": "2021-05-29T12:41:57.798435Z",
     "start_time": "2021-05-29T12:41:57.768513Z"
    }
   },
   "outputs": [
    {
     "data": {
      "text/plain": [
       "array(['No', 'No_Info', 'Yes'], dtype=object)"
      ]
     },
     "execution_count": 7,
     "metadata": {},
     "output_type": "execute_result"
    }
   ],
   "source": [
    "df_train['Credit_Product'].unique()"
   ]
  },
  {
   "cell_type": "code",
   "execution_count": 8,
   "metadata": {
    "ExecuteTime": {
     "end_time": "2021-05-29T12:42:12.319732Z",
     "start_time": "2021-05-29T12:42:06.378072Z"
    }
   },
   "outputs": [
    {
     "data": {
      "text/html": [
       "<div>\n",
       "<style scoped>\n",
       "    .dataframe tbody tr th:only-of-type {\n",
       "        vertical-align: middle;\n",
       "    }\n",
       "\n",
       "    .dataframe tbody tr th {\n",
       "        vertical-align: top;\n",
       "    }\n",
       "\n",
       "    .dataframe thead th {\n",
       "        text-align: right;\n",
       "    }\n",
       "</style>\n",
       "<table border=\"1\" class=\"dataframe\">\n",
       "  <thead>\n",
       "    <tr style=\"text-align: right;\">\n",
       "      <th></th>\n",
       "      <th>ID</th>\n",
       "      <th>Gender</th>\n",
       "      <th>Age</th>\n",
       "      <th>Region_Code</th>\n",
       "      <th>Occupation</th>\n",
       "      <th>Channel_Code</th>\n",
       "      <th>Vintage</th>\n",
       "      <th>Credit_Product</th>\n",
       "      <th>Avg_Account_Balance</th>\n",
       "      <th>Is_Active</th>\n",
       "      <th>Is_Lead</th>\n",
       "    </tr>\n",
       "  </thead>\n",
       "  <tbody>\n",
       "    <tr>\n",
       "      <th>0</th>\n",
       "      <td>NNVBBKZB</td>\n",
       "      <td>Female</td>\n",
       "      <td>73</td>\n",
       "      <td>268</td>\n",
       "      <td>Other</td>\n",
       "      <td>X3</td>\n",
       "      <td>43</td>\n",
       "      <td>No</td>\n",
       "      <td>1045696</td>\n",
       "      <td>No</td>\n",
       "      <td>0</td>\n",
       "    </tr>\n",
       "    <tr>\n",
       "      <th>1</th>\n",
       "      <td>IDD62UNG</td>\n",
       "      <td>Female</td>\n",
       "      <td>30</td>\n",
       "      <td>277</td>\n",
       "      <td>Salaried</td>\n",
       "      <td>X1</td>\n",
       "      <td>32</td>\n",
       "      <td>No</td>\n",
       "      <td>581988</td>\n",
       "      <td>No</td>\n",
       "      <td>0</td>\n",
       "    </tr>\n",
       "    <tr>\n",
       "      <th>2</th>\n",
       "      <td>HD3DSEMC</td>\n",
       "      <td>Female</td>\n",
       "      <td>56</td>\n",
       "      <td>268</td>\n",
       "      <td>Self_Employed</td>\n",
       "      <td>X3</td>\n",
       "      <td>26</td>\n",
       "      <td>No</td>\n",
       "      <td>1484315</td>\n",
       "      <td>Yes</td>\n",
       "      <td>0</td>\n",
       "    </tr>\n",
       "    <tr>\n",
       "      <th>3</th>\n",
       "      <td>BF3NC7KV</td>\n",
       "      <td>Male</td>\n",
       "      <td>34</td>\n",
       "      <td>270</td>\n",
       "      <td>Salaried</td>\n",
       "      <td>X1</td>\n",
       "      <td>19</td>\n",
       "      <td>No</td>\n",
       "      <td>470454</td>\n",
       "      <td>No</td>\n",
       "      <td>0</td>\n",
       "    </tr>\n",
       "    <tr>\n",
       "      <th>4</th>\n",
       "      <td>TEASRWXV</td>\n",
       "      <td>Female</td>\n",
       "      <td>30</td>\n",
       "      <td>282</td>\n",
       "      <td>Salaried</td>\n",
       "      <td>X1</td>\n",
       "      <td>33</td>\n",
       "      <td>No</td>\n",
       "      <td>886787</td>\n",
       "      <td>No</td>\n",
       "      <td>0</td>\n",
       "    </tr>\n",
       "    <tr>\n",
       "      <th>...</th>\n",
       "      <td>...</td>\n",
       "      <td>...</td>\n",
       "      <td>...</td>\n",
       "      <td>...</td>\n",
       "      <td>...</td>\n",
       "      <td>...</td>\n",
       "      <td>...</td>\n",
       "      <td>...</td>\n",
       "      <td>...</td>\n",
       "      <td>...</td>\n",
       "      <td>...</td>\n",
       "    </tr>\n",
       "    <tr>\n",
       "      <th>245720</th>\n",
       "      <td>BPAWWXZN</td>\n",
       "      <td>Male</td>\n",
       "      <td>51</td>\n",
       "      <td>284</td>\n",
       "      <td>Self_Employed</td>\n",
       "      <td>X3</td>\n",
       "      <td>109</td>\n",
       "      <td>No_Info</td>\n",
       "      <td>1925586</td>\n",
       "      <td>No</td>\n",
       "      <td>0</td>\n",
       "    </tr>\n",
       "    <tr>\n",
       "      <th>245721</th>\n",
       "      <td>HFNB7JY8</td>\n",
       "      <td>Male</td>\n",
       "      <td>27</td>\n",
       "      <td>268</td>\n",
       "      <td>Salaried</td>\n",
       "      <td>X1</td>\n",
       "      <td>15</td>\n",
       "      <td>No</td>\n",
       "      <td>862952</td>\n",
       "      <td>Yes</td>\n",
       "      <td>0</td>\n",
       "    </tr>\n",
       "    <tr>\n",
       "      <th>245722</th>\n",
       "      <td>GEHAUCWT</td>\n",
       "      <td>Female</td>\n",
       "      <td>26</td>\n",
       "      <td>281</td>\n",
       "      <td>Salaried</td>\n",
       "      <td>X1</td>\n",
       "      <td>13</td>\n",
       "      <td>No</td>\n",
       "      <td>670659</td>\n",
       "      <td>No</td>\n",
       "      <td>0</td>\n",
       "    </tr>\n",
       "    <tr>\n",
       "      <th>245723</th>\n",
       "      <td>GE7V8SAH</td>\n",
       "      <td>Female</td>\n",
       "      <td>28</td>\n",
       "      <td>273</td>\n",
       "      <td>Salaried</td>\n",
       "      <td>X1</td>\n",
       "      <td>31</td>\n",
       "      <td>No</td>\n",
       "      <td>407504</td>\n",
       "      <td>No</td>\n",
       "      <td>0</td>\n",
       "    </tr>\n",
       "    <tr>\n",
       "      <th>245724</th>\n",
       "      <td>BOCZSWLJ</td>\n",
       "      <td>Male</td>\n",
       "      <td>29</td>\n",
       "      <td>269</td>\n",
       "      <td>Salaried</td>\n",
       "      <td>X1</td>\n",
       "      <td>21</td>\n",
       "      <td>No</td>\n",
       "      <td>1129276</td>\n",
       "      <td>No</td>\n",
       "      <td>0</td>\n",
       "    </tr>\n",
       "  </tbody>\n",
       "</table>\n",
       "<p>245725 rows × 11 columns</p>\n",
       "</div>"
      ],
      "text/plain": [
       "              ID  Gender  Age  Region_Code     Occupation Channel_Code  \\\n",
       "0       NNVBBKZB  Female   73          268          Other           X3   \n",
       "1       IDD62UNG  Female   30          277       Salaried           X1   \n",
       "2       HD3DSEMC  Female   56          268  Self_Employed           X3   \n",
       "3       BF3NC7KV    Male   34          270       Salaried           X1   \n",
       "4       TEASRWXV  Female   30          282       Salaried           X1   \n",
       "...          ...     ...  ...          ...            ...          ...   \n",
       "245720  BPAWWXZN    Male   51          284  Self_Employed           X3   \n",
       "245721  HFNB7JY8    Male   27          268       Salaried           X1   \n",
       "245722  GEHAUCWT  Female   26          281       Salaried           X1   \n",
       "245723  GE7V8SAH  Female   28          273       Salaried           X1   \n",
       "245724  BOCZSWLJ    Male   29          269       Salaried           X1   \n",
       "\n",
       "        Vintage Credit_Product  Avg_Account_Balance Is_Active  Is_Lead  \n",
       "0            43             No              1045696        No        0  \n",
       "1            32             No               581988        No        0  \n",
       "2            26             No              1484315       Yes        0  \n",
       "3            19             No               470454        No        0  \n",
       "4            33             No               886787        No        0  \n",
       "...         ...            ...                  ...       ...      ...  \n",
       "245720      109        No_Info              1925586        No        0  \n",
       "245721       15             No               862952       Yes        0  \n",
       "245722       13             No               670659        No        0  \n",
       "245723       31             No               407504        No        0  \n",
       "245724       21             No              1129276        No        0  \n",
       "\n",
       "[245725 rows x 11 columns]"
      ]
     },
     "execution_count": 8,
     "metadata": {},
     "output_type": "execute_result"
    }
   ],
   "source": [
    "# Remove characters from the region and convert it to int for data model training\n",
    "df_train['Region_Code']=df_train['Region_Code'].str[2:]\n",
    "#df_train['Region_Code'].astype(int)\n",
    "df_train['Region_Code']=df_train['Region_Code'].apply(pd.to_numeric)\n",
    "df_train"
   ]
  },
  {
   "cell_type": "code",
   "execution_count": 13,
   "metadata": {
    "ExecuteTime": {
     "end_time": "2021-05-28T14:33:09.003071Z",
     "start_time": "2021-05-28T14:33:08.980130Z"
    }
   },
   "outputs": [
    {
     "data": {
      "text/plain": [
       "array(['X3', 'X1', 'X2', 'X4'], dtype=object)"
      ]
     },
     "execution_count": 13,
     "metadata": {},
     "output_type": "execute_result"
    }
   ],
   "source": [
    "#convert channel_code to integer type by using one hot encoding technique or creating dummies for the column\n",
    "df_train['Channel_Code'].unique()"
   ]
  },
  {
   "cell_type": "code",
   "execution_count": 14,
   "metadata": {
    "ExecuteTime": {
     "end_time": "2021-05-28T14:33:09.053933Z",
     "start_time": "2021-05-28T14:33:09.006060Z"
    }
   },
   "outputs": [
    {
     "data": {
      "text/plain": [
       "array(['Other', 'Salaried', 'Self_Employed', 'Entrepreneur'], dtype=object)"
      ]
     },
     "execution_count": 14,
     "metadata": {},
     "output_type": "execute_result"
    }
   ],
   "source": [
    "df_train['Occupation'].unique()"
   ]
  },
  {
   "cell_type": "code",
   "execution_count": 15,
   "metadata": {
    "ExecuteTime": {
     "end_time": "2021-05-28T14:33:09.089841Z",
     "start_time": "2021-05-28T14:33:09.059916Z"
    }
   },
   "outputs": [
    {
     "data": {
      "text/plain": [
       "array(['Female', 'Male'], dtype=object)"
      ]
     },
     "execution_count": 15,
     "metadata": {},
     "output_type": "execute_result"
    }
   ],
   "source": [
    "df_train['Gender'].unique()"
   ]
  },
  {
   "cell_type": "code",
   "execution_count": 16,
   "metadata": {
    "ExecuteTime": {
     "end_time": "2021-05-28T14:33:09.125742Z",
     "start_time": "2021-05-28T14:33:09.093826Z"
    }
   },
   "outputs": [
    {
     "data": {
      "text/plain": [
       "array(['No', 'Yes'], dtype=object)"
      ]
     },
     "execution_count": 16,
     "metadata": {},
     "output_type": "execute_result"
    }
   ],
   "source": [
    "df_train['Is_Active'].unique()"
   ]
  },
  {
   "cell_type": "code",
   "execution_count": 17,
   "metadata": {
    "ExecuteTime": {
     "end_time": "2021-05-28T14:33:09.160661Z",
     "start_time": "2021-05-28T14:33:09.129730Z"
    }
   },
   "outputs": [
    {
     "data": {
      "text/plain": [
       "array(['No', 'Yes'], dtype=object)"
      ]
     },
     "execution_count": 17,
     "metadata": {},
     "output_type": "execute_result"
    }
   ],
   "source": [
    "df_train['Credit_Product'].unique()"
   ]
  },
  {
   "cell_type": "code",
   "execution_count": 9,
   "metadata": {
    "ExecuteTime": {
     "end_time": "2021-05-29T12:42:19.154659Z",
     "start_time": "2021-05-29T12:42:18.956280Z"
    }
   },
   "outputs": [],
   "source": [
    "df_train=pd.get_dummies(df_train,columns=['Channel_Code','Is_Active','Occupation','Gender','Credit_Product'])"
   ]
  },
  {
   "cell_type": "code",
   "execution_count": 10,
   "metadata": {
    "ExecuteTime": {
     "end_time": "2021-05-29T12:42:23.903498Z",
     "start_time": "2021-05-29T12:42:23.500157Z"
    }
   },
   "outputs": [],
   "source": [
    "#drop  duplicates and  Column name ID\n",
    "df_train=df_train.drop_duplicates()\n",
    "df_train.drop('ID', axis=1, inplace=True)"
   ]
  },
  {
   "cell_type": "code",
   "execution_count": 11,
   "metadata": {
    "ExecuteTime": {
     "end_time": "2021-05-29T12:42:26.503878Z",
     "start_time": "2021-05-29T12:42:26.497892Z"
    }
   },
   "outputs": [
    {
     "data": {
      "text/plain": [
       "Index(['Age', 'Region_Code', 'Vintage', 'Avg_Account_Balance', 'Is_Lead',\n",
       "       'Channel_Code_X1', 'Channel_Code_X2', 'Channel_Code_X3',\n",
       "       'Channel_Code_X4', 'Is_Active_No', 'Is_Active_Yes',\n",
       "       'Occupation_Entrepreneur', 'Occupation_Other', 'Occupation_Salaried',\n",
       "       'Occupation_Self_Employed', 'Gender_Female', 'Gender_Male',\n",
       "       'Credit_Product_No', 'Credit_Product_No_Info', 'Credit_Product_Yes'],\n",
       "      dtype='object')"
      ]
     },
     "execution_count": 11,
     "metadata": {},
     "output_type": "execute_result"
    }
   ],
   "source": [
    "df_train.columns"
   ]
  },
  {
   "cell_type": "code",
   "execution_count": 12,
   "metadata": {
    "ExecuteTime": {
     "end_time": "2021-05-29T12:42:29.073289Z",
     "start_time": "2021-05-29T12:42:29.065308Z"
    }
   },
   "outputs": [
    {
     "data": {
      "text/plain": [
       "Index(['Age', 'Region_Code', 'Vintage', 'Avg_Account_Balance', 'Is_Lead',\n",
       "       'Channel_Code_X1', 'Channel_Code_X2', 'Channel_Code_X3',\n",
       "       'Channel_Code_X4', 'Is_Active_No', 'Is_Active_Yes',\n",
       "       'Occupation_Entrepreneur', 'Occupation_Other', 'Occupation_Salaried',\n",
       "       'Occupation_Self_Employed', 'Gender_Female', 'Gender_Male',\n",
       "       'Credit_Product_No', 'Credit_Product_No_Info', 'Credit_Product_Yes'],\n",
       "      dtype='object')"
      ]
     },
     "execution_count": 12,
     "metadata": {},
     "output_type": "execute_result"
    }
   ],
   "source": [
    "df_train.columns"
   ]
  },
  {
   "cell_type": "code",
   "execution_count": 13,
   "metadata": {
    "ExecuteTime": {
     "end_time": "2021-05-29T12:42:34.583119Z",
     "start_time": "2021-05-29T12:42:34.467429Z"
    }
   },
   "outputs": [],
   "source": [
    "#Create target label (y) and features (x)\n",
    "y = df_train['Is_Lead'] # Labels\n",
    "df_train.drop('Is_Lead', axis=1, inplace=True)# Features\n",
    "x=df_train\n",
    "# Split dataset into training set and test set\n",
    "X_train, X_test, y_train, y_test = train_test_split(x, y, test_size=0.3)"
   ]
  },
  {
   "cell_type": "code",
   "execution_count": 14,
   "metadata": {
    "ExecuteTime": {
     "end_time": "2021-05-29T12:42:37.346596Z",
     "start_time": "2021-05-29T12:42:37.340591Z"
    }
   },
   "outputs": [
    {
     "data": {
      "text/plain": [
       "(172007, 19)"
      ]
     },
     "execution_count": 14,
     "metadata": {},
     "output_type": "execute_result"
    }
   ],
   "source": [
    "X_train.shape"
   ]
  },
  {
   "cell_type": "code",
   "execution_count": 15,
   "metadata": {
    "ExecuteTime": {
     "end_time": "2021-05-29T12:42:39.629152Z",
     "start_time": "2021-05-29T12:42:39.623167Z"
    }
   },
   "outputs": [
    {
     "data": {
      "text/plain": [
       "(73718, 19)"
      ]
     },
     "execution_count": 15,
     "metadata": {},
     "output_type": "execute_result"
    }
   ],
   "source": [
    "X_test.shape"
   ]
  },
  {
   "cell_type": "code",
   "execution_count": 16,
   "metadata": {
    "ExecuteTime": {
     "end_time": "2021-05-29T12:42:41.750851Z",
     "start_time": "2021-05-29T12:42:41.744868Z"
    }
   },
   "outputs": [
    {
     "data": {
      "text/plain": [
       "(172007,)"
      ]
     },
     "execution_count": 16,
     "metadata": {},
     "output_type": "execute_result"
    }
   ],
   "source": [
    "y_train.shape"
   ]
  },
  {
   "cell_type": "code",
   "execution_count": 17,
   "metadata": {
    "ExecuteTime": {
     "end_time": "2021-05-29T12:42:44.229977Z",
     "start_time": "2021-05-29T12:42:44.223996Z"
    }
   },
   "outputs": [
    {
     "data": {
      "text/plain": [
       "(73718,)"
      ]
     },
     "execution_count": 17,
     "metadata": {},
     "output_type": "execute_result"
    }
   ],
   "source": [
    "y_test.shape"
   ]
  },
  {
   "cell_type": "markdown",
   "metadata": {},
   "source": [
    "# Model Training "
   ]
  },
  {
   "cell_type": "markdown",
   "metadata": {},
   "source": [
    "## Logistic RegressionCV"
   ]
  },
  {
   "cell_type": "code",
   "execution_count": 74,
   "metadata": {
    "ExecuteTime": {
     "end_time": "2021-05-29T15:21:32.416194Z",
     "start_time": "2021-05-29T15:21:19.457294Z"
    }
   },
   "outputs": [],
   "source": [
    "logistic = LogisticRegressionCV(cv=5, random_state=0).fit(X_train, y_train)"
   ]
  },
  {
   "cell_type": "code",
   "execution_count": 75,
   "metadata": {
    "ExecuteTime": {
     "end_time": "2021-05-29T15:21:44.728984Z",
     "start_time": "2021-05-29T15:21:44.689082Z"
    }
   },
   "outputs": [
    {
     "name": "stdout",
     "output_type": "stream",
     "text": [
      "Accuracy: 0.7623646870506525\n"
     ]
    }
   ],
   "source": [
    "y_pred=logistic.predict(X_test)\n",
    "# Model Accuracy, how often is the classifier correct?\n",
    "print(\"Accuracy:\",metrics.accuracy_score(y_test, y_pred))"
   ]
  },
  {
   "cell_type": "markdown",
   "metadata": {},
   "source": [
    "## Random Forest"
   ]
  },
  {
   "cell_type": "code",
   "execution_count": 18,
   "metadata": {
    "ExecuteTime": {
     "end_time": "2021-05-29T12:43:24.356030Z",
     "start_time": "2021-05-29T12:42:48.673595Z"
    }
   },
   "outputs": [
    {
     "data": {
      "text/plain": [
       "RandomForestClassifier(max_features='sqrt')"
      ]
     },
     "execution_count": 18,
     "metadata": {},
     "output_type": "execute_result"
    }
   ],
   "source": [
    "# Create the model with 100 trees\n",
    "model = RandomForestClassifier(n_estimators=100, \n",
    "                               bootstrap = True,\n",
    "                               max_features = 'sqrt')\n",
    "# Fit on training data\n",
    "model.fit(X_train, y_train)"
   ]
  },
  {
   "cell_type": "code",
   "execution_count": 19,
   "metadata": {
    "ExecuteTime": {
     "end_time": "2021-05-29T12:43:49.397549Z",
     "start_time": "2021-05-29T12:43:46.209075Z"
    }
   },
   "outputs": [
    {
     "name": "stdout",
     "output_type": "stream",
     "text": [
      "Accuracy: 0.8507827124989826\n"
     ]
    }
   ],
   "source": [
    "from sklearn import metrics\n",
    "y_pred=model.predict(X_test)\n",
    "# Model Accuracy, how often is the classifier correct?\n",
    "print(\"Accuracy:\",metrics.accuracy_score(y_test, y_pred))"
   ]
  },
  {
   "cell_type": "code",
   "execution_count": 20,
   "metadata": {
    "ExecuteTime": {
     "end_time": "2021-05-29T12:44:01.947317Z",
     "start_time": "2021-05-29T12:43:55.100125Z"
    }
   },
   "outputs": [],
   "source": [
    "# Actual class predictions\n",
    "rf_predictions = model.predict(X_test)\n",
    "# Probabilities for each class\n",
    "rf_probs = model.predict_proba(X_test)[:, 1]\n",
    "\n",
    "from sklearn.metrics import roc_auc_score\n",
    "\n",
    "# Calculate roc auc\n",
    "roc_value = roc_auc_score(y_test, rf_probs)"
   ]
  },
  {
   "cell_type": "markdown",
   "metadata": {},
   "source": [
    "### Model Tuning"
   ]
  },
  {
   "cell_type": "code",
   "execution_count": 69,
   "metadata": {
    "ExecuteTime": {
     "end_time": "2021-05-29T14:09:24.012200Z",
     "start_time": "2021-05-29T14:09:24.007215Z"
    }
   },
   "outputs": [],
   "source": [
    "model_params = {\n",
    "    'bootstrap': [True, False],\n",
    "    # randomly sample numbers from 4 to 204 estimators\n",
    "    'n_estimators': [100, 200, 300, 400, 500, 600,700],\n",
    "    # normally distributed max_features, with mean .25 stddev 0.1, bounded between 0 and 1\n",
    "    'max_features': ['auto', 'sqrt'],\n",
    "    # uniform distribution from 0.01 to 0.2 (0.01 + 0.199)\n",
    "    'min_samples_split': [2, 5, 10]\n",
    "}"
   ]
  },
  {
   "cell_type": "code",
   "execution_count": 70,
   "metadata": {
    "ExecuteTime": {
     "end_time": "2021-05-29T14:43:12.201913Z",
     "start_time": "2021-05-29T14:09:26.951585Z"
    }
   },
   "outputs": [
    {
     "name": "stdout",
     "output_type": "stream",
     "text": [
      "{'bootstrap': True,\n",
      " 'ccp_alpha': 0.0,\n",
      " 'class_weight': None,\n",
      " 'criterion': 'gini',\n",
      " 'max_depth': None,\n",
      " 'max_features': 'auto',\n",
      " 'max_leaf_nodes': None,\n",
      " 'max_samples': None,\n",
      " 'min_impurity_decrease': 0.0,\n",
      " 'min_impurity_split': None,\n",
      " 'min_samples_leaf': 1,\n",
      " 'min_samples_split': 5,\n",
      " 'min_weight_fraction_leaf': 0.0,\n",
      " 'n_estimators': 400,\n",
      " 'n_jobs': None,\n",
      " 'oob_score': False,\n",
      " 'random_state': None,\n",
      " 'verbose': 0,\n",
      " 'warm_start': False}\n"
     ]
    }
   ],
   "source": [
    "# create random forest classifier model\n",
    "rf_model = RandomForestClassifier()\n",
    "\n",
    "# set up random search meta-estimator\n",
    "\n",
    "tune_rf = RandomizedSearchCV(rf_model, model_params, n_iter=3, cv=5, random_state=1)\n",
    "\n",
    "# train the random search meta-estimator to find the best model out of 100 candidates\n",
    "model_rf_tune = tune_rf.fit(X_train, y_train)\n",
    "\n",
    "# print winning set of hyperparameters\n",
    "from pprint import pprint\n",
    "pprint(model_rf_tune.best_estimator_.get_params())"
   ]
  },
  {
   "cell_type": "code",
   "execution_count": 71,
   "metadata": {
    "ExecuteTime": {
     "end_time": "2021-05-29T15:12:03.223116Z",
     "start_time": "2021-05-29T15:11:52.436956Z"
    }
   },
   "outputs": [
    {
     "name": "stdout",
     "output_type": "stream",
     "text": [
      "Accuracy: 0.8569277517024336\n"
     ]
    }
   ],
   "source": [
    "from sklearn import metrics\n",
    "y_pred_rf_tune=model_rf_tune.predict(X_test)\n",
    "# Model Accuracy, how often is the classifier correct?\n",
    "print(\"Accuracy:\",metrics.accuracy_score(y_test, y_pred))"
   ]
  },
  {
   "cell_type": "markdown",
   "metadata": {},
   "source": [
    "##  Gradient Boosting"
   ]
  },
  {
   "cell_type": "code",
   "execution_count": 47,
   "metadata": {
    "ExecuteTime": {
     "end_time": "2021-05-29T13:33:14.465318Z",
     "start_time": "2021-05-29T13:33:14.293070Z"
    }
   },
   "outputs": [],
   "source": [
    "from sklearn.datasets import make_hastie_10_2\n",
    "from sklearn.ensemble import GradientBoostingClassifier"
   ]
  },
  {
   "cell_type": "code",
   "execution_count": 55,
   "metadata": {
    "ExecuteTime": {
     "end_time": "2021-05-29T13:45:53.844708Z",
     "start_time": "2021-05-29T13:45:39.664593Z"
    }
   },
   "outputs": [],
   "source": [
    "clf = GradientBoostingClassifier(n_estimators=100, learning_rate=1.0,\n",
    "                                 max_depth=1, random_state=0).fit(X_train, y_train)"
   ]
  },
  {
   "cell_type": "code",
   "execution_count": 56,
   "metadata": {
    "ExecuteTime": {
     "end_time": "2021-05-29T13:45:55.251876Z",
     "start_time": "2021-05-29T13:45:55.126210Z"
    }
   },
   "outputs": [
    {
     "name": "stdout",
     "output_type": "stream",
     "text": [
      "Accuracy: 0.8569277517024336\n"
     ]
    }
   ],
   "source": [
    "from sklearn import metrics\n",
    "y_pred=clf.predict(X_test)\n",
    "# Model Accuracy, how often is the classifier correct?\n",
    "print(\"Accuracy:\",metrics.accuracy_score(y_test, y_pred))"
   ]
  },
  {
   "cell_type": "markdown",
   "metadata": {},
   "source": [
    "# Predictions from test data"
   ]
  },
  {
   "cell_type": "markdown",
   "metadata": {},
   "source": [
    "## Preprocess Test Data"
   ]
  },
  {
   "cell_type": "code",
   "execution_count": 32,
   "metadata": {
    "ExecuteTime": {
     "end_time": "2021-05-29T12:45:08.330060Z",
     "start_time": "2021-05-29T12:45:08.147087Z"
    }
   },
   "outputs": [],
   "source": [
    "# Read Test Data\n",
    "df_test =  pd.read_csv('C:/Users/ps23962/Desktop/Data Science Project/test_mSzZ8RL.csv')\n"
   ]
  },
  {
   "cell_type": "code",
   "execution_count": 33,
   "metadata": {
    "ExecuteTime": {
     "end_time": "2021-05-29T12:45:10.510743Z",
     "start_time": "2021-05-29T12:45:10.457887Z"
    }
   },
   "outputs": [
    {
     "name": "stdout",
     "output_type": "stream",
     "text": [
      "<class 'pandas.core.frame.DataFrame'>\n",
      "RangeIndex: 105312 entries, 0 to 105311\n",
      "Data columns (total 10 columns):\n",
      " #   Column               Non-Null Count   Dtype \n",
      "---  ------               --------------   ----- \n",
      " 0   ID                   105312 non-null  object\n",
      " 1   Gender               105312 non-null  object\n",
      " 2   Age                  105312 non-null  int64 \n",
      " 3   Region_Code          105312 non-null  object\n",
      " 4   Occupation           105312 non-null  object\n",
      " 5   Channel_Code         105312 non-null  object\n",
      " 6   Vintage              105312 non-null  int64 \n",
      " 7   Credit_Product       92790 non-null   object\n",
      " 8   Avg_Account_Balance  105312 non-null  int64 \n",
      " 9   Is_Active            105312 non-null  object\n",
      "dtypes: int64(3), object(7)\n",
      "memory usage: 8.0+ MB\n"
     ]
    }
   ],
   "source": [
    "df_test.info()"
   ]
  },
  {
   "cell_type": "code",
   "execution_count": 34,
   "metadata": {
    "ExecuteTime": {
     "end_time": "2021-05-29T12:45:14.105912Z",
     "start_time": "2021-05-29T12:45:14.100928Z"
    }
   },
   "outputs": [],
   "source": [
    "#extract ID's for final Result set merge \n",
    "Identifier= df_test['ID']"
   ]
  },
  {
   "cell_type": "code",
   "execution_count": 35,
   "metadata": {
    "ExecuteTime": {
     "end_time": "2021-05-29T12:45:16.435203Z",
     "start_time": "2021-05-29T12:45:16.403307Z"
    }
   },
   "outputs": [],
   "source": [
    "columns_1 = [\"ID\"]\n",
    "data_1 = Identifier\n",
    "df_Identifier = pd.DataFrame(data=data_1, columns=columns_1)"
   ]
  },
  {
   "cell_type": "code",
   "execution_count": 36,
   "metadata": {
    "ExecuteTime": {
     "end_time": "2021-05-29T12:45:21.335440Z",
     "start_time": "2021-05-29T12:45:18.405278Z"
    }
   },
   "outputs": [],
   "source": [
    "# Remove characters from the region and convert it to int for data model training\n",
    "df_test['Region_Code']=df_test['Region_Code'].str[2:]\n",
    "#df_train['Region_Code'].astype(int)\n",
    "df_test['Region_Code']=df_test['Region_Code'].apply(pd.to_numeric)"
   ]
  },
  {
   "cell_type": "code",
   "execution_count": 37,
   "metadata": {
    "ExecuteTime": {
     "end_time": "2021-05-29T12:45:21.364362Z",
     "start_time": "2021-05-29T12:45:21.340428Z"
    }
   },
   "outputs": [],
   "source": [
    "#create category of null values in credit product a default\n",
    "df_test['Credit_Product']=df_test['Credit_Product'].replace(np.nan,'No_Info')"
   ]
  },
  {
   "cell_type": "code",
   "execution_count": 38,
   "metadata": {
    "ExecuteTime": {
     "end_time": "2021-05-29T12:45:23.338524Z",
     "start_time": "2021-05-29T12:45:23.248488Z"
    }
   },
   "outputs": [],
   "source": [
    "df_test=pd.get_dummies(df_test,columns=['Channel_Code','Is_Active','Occupation','Gender','Credit_Product'])"
   ]
  },
  {
   "cell_type": "code",
   "execution_count": 39,
   "metadata": {
    "ExecuteTime": {
     "end_time": "2021-05-29T12:45:25.526568Z",
     "start_time": "2021-05-29T12:45:25.354032Z"
    }
   },
   "outputs": [],
   "source": [
    "#drop  duplicates and  Column name ID\n",
    "df_test=df_test.drop_duplicates()\n",
    "df_test.drop('ID', axis=1, inplace=True)"
   ]
  },
  {
   "cell_type": "code",
   "execution_count": 40,
   "metadata": {
    "ExecuteTime": {
     "end_time": "2021-05-29T12:45:27.725415Z",
     "start_time": "2021-05-29T12:45:27.701479Z"
    }
   },
   "outputs": [
    {
     "name": "stdout",
     "output_type": "stream",
     "text": [
      "<class 'pandas.core.frame.DataFrame'>\n",
      "Int64Index: 105312 entries, 0 to 105311\n",
      "Data columns (total 19 columns):\n",
      " #   Column                    Non-Null Count   Dtype\n",
      "---  ------                    --------------   -----\n",
      " 0   Age                       105312 non-null  int64\n",
      " 1   Region_Code               105312 non-null  int64\n",
      " 2   Vintage                   105312 non-null  int64\n",
      " 3   Avg_Account_Balance       105312 non-null  int64\n",
      " 4   Channel_Code_X1           105312 non-null  uint8\n",
      " 5   Channel_Code_X2           105312 non-null  uint8\n",
      " 6   Channel_Code_X3           105312 non-null  uint8\n",
      " 7   Channel_Code_X4           105312 non-null  uint8\n",
      " 8   Is_Active_No              105312 non-null  uint8\n",
      " 9   Is_Active_Yes             105312 non-null  uint8\n",
      " 10  Occupation_Entrepreneur   105312 non-null  uint8\n",
      " 11  Occupation_Other          105312 non-null  uint8\n",
      " 12  Occupation_Salaried       105312 non-null  uint8\n",
      " 13  Occupation_Self_Employed  105312 non-null  uint8\n",
      " 14  Gender_Female             105312 non-null  uint8\n",
      " 15  Gender_Male               105312 non-null  uint8\n",
      " 16  Credit_Product_No         105312 non-null  uint8\n",
      " 17  Credit_Product_No_Info    105312 non-null  uint8\n",
      " 18  Credit_Product_Yes        105312 non-null  uint8\n",
      "dtypes: int64(4), uint8(15)\n",
      "memory usage: 5.5 MB\n"
     ]
    }
   ],
   "source": [
    "df_test.info()"
   ]
  },
  {
   "cell_type": "markdown",
   "metadata": {},
   "source": [
    "## Predictions from Random Forest"
   ]
  },
  {
   "cell_type": "code",
   "execution_count": 41,
   "metadata": {
    "ExecuteTime": {
     "end_time": "2021-05-29T12:45:35.115870Z",
     "start_time": "2021-05-29T12:45:30.957977Z"
    }
   },
   "outputs": [],
   "source": [
    "#Predicted results\n",
    "results=model.predict(df_test)"
   ]
  },
  {
   "cell_type": "code",
   "execution_count": 42,
   "metadata": {
    "ExecuteTime": {
     "end_time": "2021-05-29T12:45:35.918943Z",
     "start_time": "2021-05-29T12:45:35.914951Z"
    }
   },
   "outputs": [],
   "source": [
    "# created results dataframe to merge with Identifier dataframe for final result\n",
    "columns = [\"Is_Lead\"]\n",
    "data = results\n",
    "Results = pd.DataFrame(data=data, columns=columns)"
   ]
  },
  {
   "cell_type": "code",
   "execution_count": 52,
   "metadata": {
    "ExecuteTime": {
     "end_time": "2021-05-29T13:43:06.817083Z",
     "start_time": "2021-05-29T13:43:06.574972Z"
    }
   },
   "outputs": [],
   "source": [
    "final_Random_forest = pd.concat([df_Identifier,Results], axis=1)\n",
    "final_Random_forest.to_csv('final_Random_forest.csv',index=False)"
   ]
  },
  {
   "cell_type": "code",
   "execution_count": null,
   "metadata": {},
   "outputs": [],
   "source": [
    "#Prediction from tuned model\n",
    "#Predicted results\n",
    "results_1=model_rf_tune.predict(df_test)\n",
    "columns_1 = [\"Is_Lead\"]\n",
    "data_3 = results_3\n",
    "Results_3 = pd.DataFrame(data=data_3, columns=columns_1)\n",
    "Tune_Random_forest = pd.concat([df_Identifier,Results_3], axis=1)\n",
    "Tune_Random_forest.to_csv('Tune_Random_forest.csv',index=False)"
   ]
  },
  {
   "cell_type": "markdown",
   "metadata": {},
   "source": [
    "## Predictions from Logistic Regression"
   ]
  },
  {
   "cell_type": "code",
   "execution_count": null,
   "metadata": {},
   "outputs": [],
   "source": [
    "results_logistic=logistic.predict(df_test)\n",
    "# created results dataframe to merge with Identifier dataframe for final result\n",
    "columns_4 = [\"Is_Lead\"]\n",
    "data_4 = results_logistic\n",
    "results_logistic = pd.DataFrame(data=data_4, columns=columns_4)\n",
    "logistic_results = pd.concat([df_Identifier,Results_3], axis=1)\n",
    "logistic_results.to_csv('logistic_results.csv',index=False)"
   ]
  },
  {
   "cell_type": "markdown",
   "metadata": {},
   "source": [
    "## Using gradient boost classifier"
   ]
  },
  {
   "cell_type": "code",
   "execution_count": 57,
   "metadata": {
    "ExecuteTime": {
     "end_time": "2021-05-29T13:49:36.491977Z",
     "start_time": "2021-05-29T13:49:36.332365Z"
    }
   },
   "outputs": [],
   "source": [
    "#Predicted results\n",
    "results_xgb=clf.predict(df_test)"
   ]
  },
  {
   "cell_type": "code",
   "execution_count": 58,
   "metadata": {
    "ExecuteTime": {
     "end_time": "2021-05-29T13:49:39.179165Z",
     "start_time": "2021-05-29T13:49:39.174184Z"
    }
   },
   "outputs": [],
   "source": [
    "# created results dataframe to merge with Identifier dataframe for final result\n",
    "columns_5 = [\"Is_Lead\"]\n",
    "data_5 = results_xgb\n",
    "Results_xgb = pd.DataFrame(data=data_5, columns=columns_5)"
   ]
  },
  {
   "cell_type": "code",
   "execution_count": 60,
   "metadata": {
    "ExecuteTime": {
     "end_time": "2021-05-29T13:50:15.879221Z",
     "start_time": "2021-05-29T13:50:15.701698Z"
    }
   },
   "outputs": [],
   "source": [
    "final_XGB = pd.concat([df_Identifier,Results_xgb], axis=1)\n",
    "final_XGB.to_csv('final_XGB.csv',index=False)"
   ]
  },
  {
   "cell_type": "code",
   "execution_count": null,
   "metadata": {},
   "outputs": [],
   "source": []
  }
 ],
 "metadata": {
  "kernelspec": {
   "display_name": "Python 3",
   "language": "python",
   "name": "python3"
  },
  "language_info": {
   "codemirror_mode": {
    "name": "ipython",
    "version": 3
   },
   "file_extension": ".py",
   "mimetype": "text/x-python",
   "name": "python",
   "nbconvert_exporter": "python",
   "pygments_lexer": "ipython3",
   "version": "3.8.3"
  },
  "toc": {
   "base_numbering": 1,
   "nav_menu": {},
   "number_sections": true,
   "sideBar": true,
   "skip_h1_title": false,
   "title_cell": "Table of Contents",
   "title_sidebar": "Contents",
   "toc_cell": false,
   "toc_position": {},
   "toc_section_display": true,
   "toc_window_display": true
  }
 },
 "nbformat": 4,
 "nbformat_minor": 4
}
